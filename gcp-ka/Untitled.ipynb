{
 "cells": [
  {
   "cell_type": "code",
   "execution_count": 2,
   "id": "4c645ae8-90f0-4db3-b3a9-5091beb5d4e1",
   "metadata": {
    "tags": []
   },
   "outputs": [],
   "source": [
    "! pip install -q --user google-cloud-aiplatform google-cloud-discoveryengine langchain-google-vertexai langchain-google-community"
   ]
  },
  {
   "cell_type": "code",
   "execution_count": 1,
   "id": "463912d8-ff7d-4188-8b87-660ca89591e3",
   "metadata": {
    "tags": []
   },
   "outputs": [
    {
     "data": {
      "text/plain": [
       "{'status': 'ok', 'restart': True}"
      ]
     },
     "execution_count": 1,
     "metadata": {},
     "output_type": "execute_result"
    }
   ],
   "source": [
    "# Restart kernel after packages are installed so that your environment can access the new packages\n",
    "import IPython\n",
    "import time\n",
    "\n",
    "app = IPython.Application.instance()\n",
    "app.kernel.do_shutdown(True)"
   ]
  },
  {
   "cell_type": "code",
   "execution_count": 1,
   "id": "67c69f64-9e37-4cf1-9c0f-842ba2010de1",
   "metadata": {
    "tags": []
   },
   "outputs": [],
   "source": [
    "PROJECT_ID = \"qwiklabs-gcp-02-b65effade7cd\"\n",
    "LOCATION = \"us-east1\"\n",
    "\n",
    "import vertexai\n",
    "\n",
    "vertexai.init(project=PROJECT_ID, location=LOCATION)"
   ]
  },
  {
   "cell_type": "code",
   "execution_count": 2,
   "id": "1b5e4c88-b5d7-4be6-8e50-876250c52f21",
   "metadata": {
    "tags": []
   },
   "outputs": [],
   "source": [
    "DATA_STORE_ID = \"qna-datastore-id\"  # @param {type:\"string\"}\n",
    "DATA_STORE_LOCATION = \"global\"  # @param {type:\"string\"}\n",
    "\n",
    "MODEL = \"gemini-2.0-flash\"  # @param {type:\"string\"}\n",
    "\n",
    "if PROJECT_ID == \"YOUR_PROJECT_ID\" or DATA_STORE_ID == \"YOUR_DATA_STORE_ID\":\n",
    "    raise ValueError(\n",
    "        \"Please set the PROJECT_ID, DATA_STORE_ID constants to reflect your environment.\"\n",
    "    )"
   ]
  },
  {
   "cell_type": "code",
   "execution_count": 3,
   "id": "fc4f139a-ee23-4e0d-9321-a0734bc624a2",
   "metadata": {
    "tags": []
   },
   "outputs": [],
   "source": [
    "from langchain.chains import RetrievalQA\n",
    "from langchain.chains import RetrievalQAWithSourcesChain\n",
    "from langchain.chains import ConversationalRetrievalChain\n",
    "from langchain.memory import ConversationBufferMemory\n",
    "from langchain.prompts import PromptTemplate\n",
    "\n",
    "from langchain_google_vertexai import ChatVertexAI\n",
    "from langchain_google_community import VertexAISearchRetriever\n",
    "from langchain_google_community import VertexAIMultiTurnSearchRetriever"
   ]
  },
  {
   "cell_type": "code",
   "execution_count": 4,
   "id": "1c94acaf-f2c9-4238-9aee-8a023e788c07",
   "metadata": {
    "tags": []
   },
   "outputs": [
    {
     "name": "stderr",
     "output_type": "stream",
     "text": [
      "/home/jupyter/.local/lib/python3.10/site-packages/langchain_google_community/vertex_ai_search.py:364: UserWarning: Beta features are configured but beta=False. The following beta features will be ignored:['custom_embedding_ratio']\n",
      "  warnings.warn(\n"
     ]
    }
   ],
   "source": [
    "llm = ChatVertexAI(model_name=MODEL)\n",
    "\n",
    "retriever = VertexAISearchRetriever(\n",
    "    project_id=PROJECT_ID,\n",
    "    location_id=DATA_STORE_LOCATION,\n",
    "    data_store_id=DATA_STORE_ID,\n",
    "    get_extractive_answers=True,\n",
    "    max_documents=10,\n",
    "    max_extractive_segment_count=1,\n",
    "    max_extractive_answer_count=5,\n",
    ")"
   ]
  },
  {
   "cell_type": "code",
   "execution_count": 5,
   "id": "7c0a6b56-0b15-4aa5-9065-9188e07e5de5",
   "metadata": {
    "tags": []
   },
   "outputs": [
    {
     "data": {
      "text/plain": [
       "{'query': \"What was Alphabet's Revenue in Q2 2021?\",\n",
       " 'result': \"Alphabet's revenue in Q2 2021 was $61.880 billion.\"}"
      ]
     },
     "execution_count": 5,
     "metadata": {},
     "output_type": "execute_result"
    }
   ],
   "source": [
    "search_query = \"What was Alphabet's Revenue in Q2 2021?\"  # @param {type:\"string\"}\n",
    "\n",
    "retrieval_qa = RetrievalQA.from_chain_type(\n",
    "    llm=llm, chain_type=\"stuff\", retriever=retriever\n",
    ")\n",
    "retrieval_qa.invoke(search_query)"
   ]
  },
  {
   "cell_type": "code",
   "execution_count": null,
   "id": "784bf2f6-c45c-48b6-a34c-68232ff74db7",
   "metadata": {},
   "outputs": [],
   "source": [
    "retrieval_qa = RetrievalQA.from_chain_type(\n",
    "    llm=llm, chain_type=\"stuff\", retriever=retriever, return_source_documents=True\n",
    ")\n",
    "\n",
    "results = retrieval_qa.invoke(search_query)\n",
    "\n",
    "print(\"*\" * 79)\n",
    "print(results[\"result\"])\n",
    "print(\"*\" * 79)\n",
    "for doc in results[\"source_documents\"]:\n",
    "    print(\"-\" * 79)\n",
    "    print(doc.page_content)"
   ]
  },
  {
   "cell_type": "code",
   "execution_count": 6,
   "id": "053f3646-7d16-4088-8892-ed4f4dbf4965",
   "metadata": {
    "tags": []
   },
   "outputs": [
    {
     "name": "stdout",
     "output_type": "stream",
     "text": [
      "*******************************************************************************\n",
      "Alphabet's revenue in Q2 2021 was $61.880 billion.\n",
      "*******************************************************************************\n",
      "-------------------------------------------------------------------------------\n",
      "As we sharpen our focus, we&#39;ll continue to invest responsibly in deep computer science for the long-term.” Ruth Porat, CFO of Alphabet and Google, said: “Our consistent investments to support long-term growth are reflected in our solid performance in the second quarter, with revenues of <b>$69.7 billion</b> in the quarter, up 13% versus last year or 16% on a constant currency basis.\n",
      "-------------------------------------------------------------------------------\n",
      "Alphabet Inc. CONSOLIDATED STATEMENTS OF INCOME (In millions, except per share amounts, unaudited) Quarter Ended June 30, Year To Date June 30, 2021 2022 2021 2022 Revenues $ 61880 $ 69685 $ 117194 $ 137696 Costs and expenses: Cost of revenues 26227 30104 50330 59703 Research and development 7675 9841 15160 18960 Sales and marketing 5276 6630 9792 12455 General and administrative 3341 3657 6114 7031 Total costs and expenses 42519 50232 81396 98149 Income from operations 19361 19453 35798 39547 Other income (expense), net 2624 (439) 7470 (1599) Income before income taxes 21985 19014 43268 37948 Provision for income taxes 3460 3012 6813 5510 Net income $ 18525 $ 16002 $ 36455 $ 32438 Basic earnings per share of Class A, Class B, and Class C stock $ 1.38 $ 1.22 $ 2.72 $ 2.46 Diluted earnings per share of Class A, Class B, and Class C stock $ 1.36 $ 1.21 $ 2.68 $ 2.44 Number of shares used in basic earnings per share calculation 13379 13133 13422 13168 Number of shares used in diluted earnings per share calculation 13592 13239 13617 13295 5.\n",
      "-------------------------------------------------------------------------------\n",
      "Alphabet Inc. CONSOLIDATED STATEMENTS OF CASH FLOWS (In millions, unaudited) Quarter Ended June 30, Year To Date June 30, 2021 2022 2021 2022 Operating activities Net income $ 18525 $ 16002 $ 36455 $ 32438 Adjustments: Depreciation and impairment of property and equipment 2730 3698 5255 7289 Amortization and impairment of intangible assets 215 201 443 392 Stock-based compensation expense 3803 4782 7548 9286 Deferred income taxes 379 (2147) 1479 (4237) (Gain) loss on debt and equity securities, net (2883) 1041 (7634) 2478 Other (8) 62 (263) 202 Changes in assets and liabilities, net of effects of acquisitions: Accounts receivable (3661) (1969) (867) 2395 Income taxes, net (1082) (4073) (297) (253) Other assets (199) (845) (192) (1621) Accounts payable (130) 1201 (1112) (1172) Accrued expenses and other liabilities 3731 1497 201 (1719) Accrued revenue share 473 (114) 29 (942) Deferred revenue (3) 86 134 (8) Net cash provided by operating activities 21890 19422 41179 44528 Investing activities Purchases of property and equipment (5496) (6828) (11438) (16614) Purchases of marketable securities (24183) (21737) (60609) (50199) Maturities and sales of marketable securities 21419 25595 60667 55374 Purchases of non-marketable securities (766) (488) (1412) (1264) Maturities and sales of non-marketable securities 237 113 256 125 Acquisitions, net of cash acquired, and purchases of intangible assets (308) (1063) (1974) (1236) Other investing activities 23 221 53 576 Net cash used in investing activities (9074) (4187) (14457) (13238) Financing activities Net payments related to stock-based award activities (2453) (2264) (4637) (5180) Repurchases of stock (12796) (15197) (24191) (28497) Proceeds from issuance of debt, net of costs 6699 12806 7599 29228 Repayments of debt (7741) (13162) (8678) (29582) Proceeds from sale of interest in consolidated entities, net 300 0 310 0 Net cash used in financing activities (15991) (17817) (29597) (34031) Effect of exchange rate changes on cash and cash equivalents 183 (368) 40 (268) Net decrease in cash and cash equivalents (2992) (2950) (2835) (3009) Cash and cash equivalents at beginning of period 26622 20886 26465 20945 Cash and cash equivalents at end of period $ 23630 $ 17936 $ 23630 $ 17936 6.\n",
      "-------------------------------------------------------------------------------\n",
      "&quot;We delivered robust growth led by mobile search, YouTube, and Cloud with Alphabet revenues of $36.3 billion, up 17% versus last year, or 19% on a constant currency basis,&quot; said Ruth Porat, Chief Financial Officer of Alphabet and Google.\n",
      "-------------------------------------------------------------------------------\n",
      "Alphabet Inc. CONSOLIDATED STATEMENTS OF INCOME (In millions, except per share amounts; unaudited) Three Months Ended March 31, 2018 2019 Revenues $ 31146 $ 36339 Costs and expenses: Cost of revenues 13467 16012 Research and development 5039 6029 Sales and marketing 3604 3905 General and administrative 1403 2088 European Commission fine 0 1697 Total costs and expenses 23513 29731 Income from operations 7633 6608 Other income (expense), net 2910 1538 Income before income taxes 10543 8146 Provision for income taxes 1142 1489 Net income $ 9401 $ 6657 Basic earnings per share of Class A and B common stock and Class C capital stock $ 13.53 $ 9.58 Diluted earnings per share of Class A and B common stock and Class C capital stock $ 13.33 $ 9.50.\n",
      "-------------------------------------------------------------------------------\n",
      "Non-GAAP operating income: we define non-GAAP operating income as operating income excluding certain charges. Non-GAAP operating margin: we define non-GAAP operating margin as non-GAAP operating income divided by revenues.\n",
      "-------------------------------------------------------------------------------\n",
      "“We&#39;re working to help people, businesses and communities in these uncertain times,” said Sundar Pichai, Chief Executive Officer of Google and Alphabet. “As people increasingly turn to online services, our platforms — from Cloud to Google Play to YouTube — are helping our partners provide important services and support their businesses.” “In the second quarter our total revenues were $38.3B, driven by gradual improvement in our ads business and strong growth in Google Cloud and Other Revenues,” said Ruth Porat, Chief Financial Officer of Alphabet and Google. “We continue to navigate through a difficult global economic environment.” Q2 2020 financial highlights The following table summarizes our consolidated financial results for the quarters ended June 30, 2019 and 2020 (in millions, except for per share information and percentages; unaudited).\n",
      "-------------------------------------------------------------------------------\n",
      "Alphabet Inc. CONSOLIDATED STATEMENTS OF INCOME (In millions, except share amounts which are reflected in thousands and per share amounts; unaudited) Quarter Ended June 30, Year to Date June 30, 2019 2020 2019 2020 Revenues $ 38944 $ 38297 $ 75283 $ 79456 Costs and expenses: Cost of revenues 17296 18553 33308 37535 Research and development 6213 6875 12242 13695 Sales and marketing 4212 3901 8117 8401 General and administrative 2043 2585 4131 5465 European Commission fines 0 0 1697 0 Total costs and expenses 29764 31914 59495 65096 Income from operations 9180 6383 15788 14360 Other income (expense), net 2967 1894 4505 1674 Income before income taxes 12147 8277 20293 16034 Provision for income taxes 2200 1318 3689 2239 Net income $ 9947 $ 6959 $ 16604 $ 13795 Basic earnings per share of Class A and B common stock and Class C capital stock $ 14.33 $ 10.21 $ 23.91 $ 20.16 Diluted earnings per share of Class A and B common stock and Class C capital stock $ 14.21 $ 10.13 $ 23.71 $ 20.00 Number of shares used in basic earnings per share calculation 693969 681768 694419 684117 Number of shares used in diluted earnings per share calculation 699954 687024 700417 689646 5.\n",
      "-------------------------------------------------------------------------------\n",
      "We also share Google news and product updates on Google&#39;s Keyword blog at https://www.blog.google/, which may be of interest or material to our investors.\n",
      "-------------------------------------------------------------------------------\n",
      "And as the digital transformation and shift to hybrid work continue, our Cloud services are helping organizations collaborate and stay secure.” Ruth Porat, CFO of Alphabet and Google, said: “Our consistent investments to support long-term growth are reflected in strong financial performance, with revenues of $65.1 billion in the quarter.\n",
      "-------------------------------------------------------------------------------\n",
      "Total revenues and hedging gains (losses) for the quarter ended June 30, 2021 were $61880 million and $(7) million, respectively.\n",
      "-------------------------------------------------------------------------------\n",
      "Alphabet Inc. CONSOLIDATED STATEMENTS OF INCOME (In millions, except share amounts which are reflected in thousands and per share amounts) Quarter Ended September 30, Year To Date September 30, 2020 2021 2020 2021 (unaudited) (unaudited) Revenues $ 46173 $ 65118 $ 125629 $ 182312 Costs and expenses: Cost of revenues 21117 27621 58652 77951 Research and development 6856 7694 20551 22854 Sales and marketing 4231 5516 12632 15308 General and administrative 2756 3256 8221 9370 Total costs and expenses 34960 44087 100056 125483 Income from operations 11213 21031 25573 56829 Other income (expense), net 2146 2033 3820 9503 Income before income taxes 13359 23064 29393 66332 Provision for income taxes 2112 4128 4351 10941 Net income $ 11247 $ 18936 $ 25042 $ 55391 Basic earnings per share of Class A and B common stock and Class C capital stock $ 16.55 $ 28.44 $ 36.69 $ 82.76 Diluted earnings per share of Class A and B common stock and Class C capital stock $ 16.40 $ 27.99 $ 36.38 $ 81.53 Number of shares used in basic earnings per share calculation 679449 665758 682561 669312 Number of shares used in diluted earnings per share calculation 685851 676519 688381 679401 5.\n",
      "-------------------------------------------------------------------------------\n",
      "&quot;We delivered another quarter of very strong performance, with revenues of $32.7 billion, up 26% versus the second quarter of 2017 and 23% on a constant currency basis.\n",
      "-------------------------------------------------------------------------------\n",
      "Alphabet Inc. CONSOLIDATED STATEMENTS OF INCOME (In millions, except per share amounts; unaudited) Three Months Ended Six Months Ended June 30, June 30, 2017 2018 2017 2018 Revenues $ 26010 $ 32657 $ 50760 $ 63803 Costs and expenses: Cost of revenues 10373 13883 20168 27350 Research and development 4172 5114 8114 10153 Sales and marketing 2897 3780 5541 7384 General and administrative 1700 2002 3501 4037 European Commission fines 2736 5071 2736 5071 Total costs and expenses 21878 29850 40060 53995 Income from operations 4132 2807 10700 9808 Other income (expense), net 245 1408 496 4950 Income before income taxes 4377 4215 11196 14758 Provision for income taxes 853 1020 2246 2162 Net income $ 3524 $ 3195 $ 8950 $ 12596 Basic earnings per share of Class A and B common stock and Class C capital stock $ 5.09 $ 4.60 $ 12.94 $ 18.13 Diluted earnings per share of Class A and B common stock and Class C capital stock $ 5.01 $ 4.54 $ 12.74 $ 17.89.\n",
      "-------------------------------------------------------------------------------\n",
      "Alphabet Inc. CONSOLIDATED STATEMENTS OF CASH FLOWS (In millions; unaudited) Three Months Ended Six Months Ended June 30, June 30, 2017 2018 2017 2018 Operating activities Net income $ 3524 $ 3195 $ 8950 $ 12596 Adjustments: Depreciation and impairment of property and equipment 1424 1862 2711 3653 Amortization and impairment of intangible assets 201 252 417 447 Stock-based compensation expense 2003 2413 4012 4870 Deferred income taxes (75) (139) 538 (157) (Gain) loss on debt and equity securities, net 3 (1068) 22 (4060) Other 39 137 96 (120) Changes in assets and liabilities, net of effects of acquisitions: Accounts receivable (836) (312) 431 1388 Income taxes, net (2289) (1438) (1779) (656) Other assets (326) (515) (454) (756) Accounts payable 16 (145) 119 (23) Accrued expenses and other liabilities 3555 5742 1687 4600 Accrued revenue share 80 (17) 6 (303) Deferred revenue 84 165 195 295 Net cash provided by operating activities 7403 10132 16951 21774 Investing activities Purchases of property and equipment (2831) (5477) (5339) (12776) Proceeds from disposals of property and equipment 13 19 54 49 Purchases of marketable securities (19557) (14192) (39676) (23041) Maturities and sales of marketable securities 14876 16172 34238 25523 Purchases of non-marketable investments (340) (405) (694) (732) Maturities and sales of non-marketable investments 40 693 118 1191 Acquisitions, net of cash acquired, and purchases of intangible assets (42) (184) (143) (1434) Proceeds from collection of notes receivable 669 0 1419 0 Net cash used in investing activities (7172) (3374) (10023) (11220) Financing activities Net payments related to stock-based award activities (1084) (1541) (2093) (2699) Repurchases of capital stock (1618) (2052) (2745) (4225) Proceeds from issuance of debt, net of costs 0 1545 0 6236 Repayments of debt (38) (2889) (56) (6267) Proceeds from sale of subsidiary shares 0 0 480 0 Net cash used in financing activities (2740) (4937) (4414) (6955) Effect of exchange rate changes on cash and cash equivalents 88 (331) 279 (166) Net increase (decrease) in cash and cash equivalents (2421) 1490 2793 3433 Cash and cash equivalents at beginning of period 18132 12658 12918 10715 Cash and cash equivalents at end of period $ 15711 $ 14148 $ 15711 $ 14148.\n",
      "-------------------------------------------------------------------------------\n",
      "Our longstanding infrastructure leadership and in-house research teams position us well as technology evolves and as we pursue the many opportunities ahead.” Ruth Porat, President and Chief Investment Officer; CFO said: “We delivered revenues of $85 billion, up 14% year on-year driven by Search as well as Cloud, which for the first time exceeded $10 billion in quarterly revenues and $1 billion in operating profit.\n",
      "-------------------------------------------------------------------------------\n",
      "Alphabet Inc. CONSOLIDATED STATEMENTS OF INCOME (In millions, except per share amounts, unaudited) Quarter Ended June 30, Year to Date June 30, 2023 2024 2023 2024 Revenues $ 74604 $ 84742 $ 144391 $ 165281 Costs and expenses: Cost of revenues 31916 35507 62528 69219 Research and development 10588 11860 22056 23763 Sales and marketing 6781 6792 13314 13218 General and administrative 3481 3158 7240 6184 Total costs and expenses 52766 57317 105138 112384 Income from operations 21838 27425 39253 52897 Other income (expense), net 65 126 855 2969 Income before income taxes 21903 27551 40108 55866 Provision for income taxes 3535 3932 6689 8585 Net income $ 18368 $ 23619 $ 33419 $ 47281 Basic earnings per share $ 1.45 $ 1.91 $ 2.63 $ 3.82 Diluted earnings per share $ 1.44 $ 1.89 $ 2.61 $ 3.78 Number of shares used in basic earnings per share calculation 12668 12343 12725 12379 Number of shares used in diluted earnings per share calculation 12764 12495 12794 12511 5.\n",
      "-------------------------------------------------------------------------------\n",
      "Alphabet Inc. CONSOLIDATED STATEMENTS OF CASH FLOWS (In millions, unaudited) Quarter Ended June 30, Year to Date June 30, 2023 2024 2023 2024 Operating activities Net income $ 18368 $ 23619 $ 33419 $ 47281 Adjustments: Depreciation of property and equipment 2824 3708 5459 7121 Stock-based compensation expense 5774 5865 11058 11129 Deferred income taxes (2415) (3157) (4269) (2738) Loss (gain) on debt and equity securities, net 509 1024 425 (757) Other 670 851 1774 1185 Changes in assets and liabilities, net of effects of acquisitions: Accounts receivable, net (2948) (3057) 1506 110 Income taxes, net(1) 4451 (3900) 8520 (889) Other assets (513) (532) (1259) (1532) Accounts payable 1119 1561 14 (563) Accrued expenses and other liabilities 459 (122) (4037) (5176) Accrued revenue share 184 419 (418) 97 Deferred revenue 184 361 (17) 220 Net cash provided by operating activities 28666 26640 52175 55488 Investing activities Purchases of property and equipment (6888) (13186) (13177) (25198) Purchases of marketable securities (21362) (22327) (35589) (43011) Maturities and sales of marketable securities 18722 33592 37049 58577 Purchases of non-marketable securities (887) (993) (1513) (2199) Maturities and sales of non-marketable securities 145 292 181 605 Acquisitions, net of cash acquired, and purchases of intangible assets (298) (26) (340) (87) Other investing activities (232) (133) (357) (32) Net cash used in investing activities (10800) (2781) (13746) (11345) Financing activities Net payments related to stock-based award activities (2736) (3209) (4725) (6138) Repurchases of stock (14969) (15684) (29526) (31380) Dividend payments 0 (2466) 0 (2466) Proceeds from issuance of debt, net of costs 1123 2893 8050 4875 Repayments of debt (1255) (2423) (8207) (5502) Proceeds from sale of interest in consolidated entities, net 2 0 5 8 Net cash used in financing activities (17835) (20889) (34403) (40603) Effect of exchange rate changes on cash and cash equivalents (26) (238) 24 (363) Net increase (decrease) in cash and cash equivalents 5 2732 4050 3177 Cash and cash equivalents at beginning of period 25924 24493 21879 24048 Cash and cash equivalents at end of period $ 25929 $ 27225 $ 25929 $ 27225 (1) The three and six months periods ended June 30, 2023 included the effect of the IRS payment deferral relief made available to taxpayers headquartered in designated counties in California, 6.\n",
      "-------------------------------------------------------------------------------\n",
      "Financial Highlights Revenues - Revenues in the second quarter totaled a record <b>$1.384 billion</b>, representing a 10% increase over the first quarter of 2005 and a 98% year-over-year increase.\n",
      "-------------------------------------------------------------------------------\n",
      "• Income from operations included a $47 million non-cash, stock-based compensation charge compared to a $75 million non-cash, stock-based compensation charge in the prior year&#39;s second quarter.\n",
      "-------------------------------------------------------------------------------\n",
      "Capital expenditures were approximately $158 million in the three months ended June 30, 2005 as compared to $96 million in the three months ended June 30, 2004.\n",
      "-------------------------------------------------------------------------------\n",
      "Alphabet Inc. CONSOLIDATED STATEMENTS OF INCOME (In millions, except share amounts which are reflected in thousands and per share amounts) Quarter Ended June 30, Year To Date June 30, 2020 2021 2020 2021 (unaudited) (unaudited) Revenues $ 38297 $ 61880 $ 79456 $ 117194 Costs and expenses: Cost of revenues 18553 26227 37535 50330 Research and development 6875 7675 13695 15160 Sales and marketing 3901 5276 8401 9792 General and administrative 2585 3341 5465 6114 Total costs and expenses 31914 42519 65096 81396 Income from operations 6383 19361 14360 35798 Other income (expense), net 1894 2624 1674 7470 Income before income taxes 8277 21985 16034 43268 Provision for income taxes 1318 3460 2239 6813 Net income $ 6959 $ 18525 $ 13795 $ 36455 Basic earnings per share of Class A and B common stock and Class C capital stock $ 10.21 $ 27.69 $ 20.16 $ 54.32 Diluted earnings per share of Class A and B common stock and Class C capital stock $ 10.13 $ 27.26 $ 20.00 $ 53.54 Number of shares used in basic earnings per share calculation 681768 668958 684117 671089 Number of shares used in diluted earnings per share calculation 687024 679612 689646 680842 5.\n",
      "-------------------------------------------------------------------------------\n",
      "Q2 2021 supplemental information (in millions, except for number of employees; unaudited) Revenues, Traffic Acquisition Costs (TAC) and number of employees Quarter Ended June 30, 2020 2021 Google Search &amp; other $ 21319 $ 35845 YouTube ads 3812 7002 Google Network 4736 7597 Google advertising 29867 50444 Google other 5124 6623 Google Services total 34991 57067 Google Cloud 3007 4628 Other Bets 148 192 Hedging gains (losses) 151 (7) Total revenues $ 38297 $ 61880 Total TAC $ 6694 $ 10929 Number of employees 127498 144056 Segment Operating Results Quarter Ended June 30, 2020 2021 Operating income (loss): Google Services $ 9539 $ 22343 Google Cloud (1426) (591) Other Bets (1116) (1398) Corporate costs, unallocated (614) (993) Total income from operations $ 6383 $ 19361 Change in the useful lives of our server and network equipment (unaudited) In January 2021, we completed an assessment of the useful lives of our servers and network equipment and adjusted the estimated useful life of our servers from three years to four years and the estimated useful life of certain network equipment from three years to five years.\n",
      "-------------------------------------------------------------------------------\n",
      "Alphabet Inc. CONSOLIDATED STATEMENTS OF CASH FLOWS (In millions) Quarter Ended June 30, Year to Date June 30, 2020 2021 2020 2021 (unaudited) (unaudited) Operating activities Net income $ 6959 $ 18525 $ 13795 $ 36455 Adjustments: Depreciation and impairment of property and equipment 3178 2730 6077 5255 Amortization and impairment of intangible assets 208 215 417 443 Stock-based compensation expense 3382 3803 6573 7548 Deferred income taxes (591) 379 (416) 1479 Gain on debt and equity securities, net (1842) (2883) (1040) (7634) Other 372 (8) 669 (263) Changes in assets and liabilities, net of effects of acquisitions: Accounts receivable (80) (3661) 2522 (867) Income taxes, net 783 (1082) 538 (297) Other assets (244) (199) (359) (192) Accounts payable 146 (130) (689) (1112) Accrued expenses and other liabilities 1432 3731 (2099) 201 Accrued revenue share 179 473 (692) 29 Deferred revenue 111 (3) 148 134 Net cash provided by operating activities 13993 21890 25444 41179 Investing activities Purchases of property and equipment (5391) (5496) (11396) (11438) Purchases of marketable securities (26548) (24183) (64111) (60609) Maturities and sales of marketable securities 24063 21419 65874 60667 Purchases of non-marketable investments (739) (766) (1311) (1412) Maturities and sales of non-marketable investments 213 237 473 256 Acquisitions, net of cash acquired, and purchases of intangible assets (165) (308) (355) (1974) Other investing activities 119 23 531 53 Net cash used in investing activities (8448) (9074) (10295) (14457) Financing activities Net payments related to stock-based award activities (1475) (2453) (2716) (4637) Repurchases of capital stock (6852) (12796) (15348) (24191) Proceeds from issuance of debt, net of costs 0 6699 1898 7599 Repayments of debt (35) (7741) (1982) (8678) Proceeds from sale of interest in consolidated entities, net 864 300 2464 310 Net cash used in financing activities (7498) (15991) (15684) (29597) Effect of exchange rate changes on cash and cash equivalents 51 183 (221) 40 Net decrease in cash and cash equivalents (1902) (2992) (756) (2835) Cash and cash equivalents at beginning of period 19644 26622 18498 26465 Cash and cash equivalents at end of period $ 17742 $ 23630 $ 17742 $ 23630 6.\n",
      "-------------------------------------------------------------------------------\n",
      "Quarter Ended March 31, 2021 2022 Revenues $ 55314 $ 68011 Change in revenues year over year 34 % 23 % Change in constant currency revenues year over year(1) 32 % 26 % Operating income $ 16437 $ 20094 Operating margin 30 % 30 % Other income (expense), net $ 4846 $ (1160) Net income $ 17930 $ 16436 Diluted EPS $ 26.29 $ 24.62 (1) Non-GAAP measure.\n",
      "-------------------------------------------------------------------------------\n",
      "Alphabet Inc. CONSOLIDATED STATEMENTS OF CASH FLOWS (In millions) Quarter Ended March 31, 2021 2022 (unaudited) Operating activities Net income $ 17930 $ 16436 Adjustments: Depreciation and impairment of property and equipment 2525 3591 Amortization and impairment of intangible assets 228 191 Stock-based compensation expense 3745 4504 Deferred income taxes 1100 (2090) (Gain) loss on debt and equity securities, net (4751) 1437 Other (255) 140 Changes in assets and liabilities, net of effects of acquisitions: Accounts receivable 2794 4364 Income taxes, net 785 3820 Other assets 7 (776) Accounts payable (982) (2373) Accrued expenses and other liabilities (3530) (3216) Accrued revenue share (444) (828) Deferred revenue 137 (94) Net cash provided by operating activities 19289 25106 Investing activities Purchases of property and equipment (5942) (9786) Purchases of marketable securities (36426) (28462) Maturities and sales of marketable securities 39248 29779 Purchases of non-marketable securities (646) (776) Maturities and sales of non-marketable securities 19 12 Acquisitions, net of cash acquired, and purchases of intangible assets (1666) (173) Other investing activities 30 355 Net cash used in investing activities (5383) (9051) Financing activities Net payments related to stock-based award activities (2184) (2916) Repurchases of stock (11395) (13300) Proceeds from issuance of debt, net of costs 900 16422 Repayments of debt (937) (16420) Proceeds from sale of interest in consolidated entities, net 10 0 Net cash used in financing activities (13606) (16214) Effect of exchange rate changes on cash and cash equivalents (143) 100 Net increase (decrease) in cash and cash equivalents 157 (59) Cash and cash equivalents at beginning of period 26465 20945 Cash and cash equivalents at end of period $ 26622 $ 20886 6.\n",
      "-------------------------------------------------------------------------------\n",
      "Segment Operating Results Quarter Ended March 31, 2021 2022 Operating income (loss): Google Services $ 19546 $ 22920 Google Cloud (974) (931) Other Bets (1145) (1155) Corporate costs, unallocated (990) (740) Total income from operations $ 16437 $ 20094 Stock Repurchase On April 20, 2022, the Board of Directors of Alphabet authorized the company to repurchase up to an additional $70.0 billion of its Class A and Class C shares in a manner deemed in the best interest of the company and its stockholders, taking into account the economic cost and prevailing market conditions, including the relative trading prices and volumes of the Class A and Class C shares.\n",
      "-------------------------------------------------------------------------------\n",
      "&quot;Alphabet revenues were $33.7 billion, up 21% versus the third quarter of 2017, and we remain focused on delivering on the opportunities we see.&quot;\n",
      "-------------------------------------------------------------------------------\n",
      "Alphabet Inc. CONSOLIDATED STATEMENTS OF INCOME (In millions, except per share amounts; unaudited) Three Months Ended Nine Months Ended September 30, September 30, 2017 2018 2017 2018 Revenues $ 27772 $ 33740 $ 78532 $ 97543 Costs and expenses: Cost of revenues 11148 14281 31316 41631 Research and development 4205 5232 12319 15385 Sales and marketing 3042 3849 8583 11233 General and administrative 1595 2068 5096 6105 European Commission fines 0 0 2736 5071 Total costs and expenses 19990 25430 60050 79425 Income from operations 7782 8310 18482 18118 Other income (expense), net 197 1773 693 6723 Income before income taxes 7979 10083 19175 24841 Provision for income taxes 1247 891 3493 3053 Net income $ 6732 $ 9192 $ 15682 $ 21788 Basic earnings per share of Class A and B common stock and Class C capital stock $ 9.71 $ 13.21 $ 22.65 $ 31.34 Diluted earnings per share of Class A and B common stock and Class C capital stock $ 9.57 $ 13.06 $ 22.30 $ 30.95.\n",
      "-------------------------------------------------------------------------------\n",
      "Alphabet Inc. CONSOLIDATED BALANCE SHEETS (In millions, except share amounts which are reflected in thousands and par value per share amounts) December 31, 2017 September 30, 2018 (unaudited) Assets Current assets: Cash and cash equivalents $ 10715 $ 13443 Marketable securities 91156 92973 Total cash, cash equivalents, and marketable securities 101871 106416 Accounts receivable, net of allowance of $674 and $652 18336 17897 Income taxes receivable, net 369 170 Inventory 749 1212 Other current assets 2983 4007 Total current assets 124308 129702 Non-marketable investments 7813 12673 Deferred income taxes 680 682 Property and equipment, net 42383 55300 Intangible assets, net 2692 2448 Goodwill 16747 17895 Other non-current assets 2672 2838 Total assets $ 197295 $ 221538 Liabilities and Stockholders&#39; Equity Current liabilities: Accounts payable $ 3137 $ 3789 Accrued compensation and benefits 4581 5946 Accrued expenses and other current liabilities 10177 15936 Accrued revenue share 3975 3878 Deferred revenue 1432 1752 Income taxes payable, net 881 0 Total current liabilities 24183 31301 Long-term debt 3969 3986 Deferred revenue, non-current 340 317 Income taxes payable, non-current 12812 11562 Deferred income taxes 430 1318 Other long-term liabilities 3059 3214 Total liabilities 44793 51698 Commitments and contingencies Stockholders&#39; equity: Convertible preferred stock, $0.001 par value per share, 100000 shares authorized; no shares issued and outstanding 0 0 Class A and Class B common stock, and Class C capital stock and additional paid-in capital, $0.001 par value per share: 15000000 shares authorized (Class A 9000000, Class B 3000000, Class C 3000000); 694783 (Class A 298470, Class B 46972, Class C 349341) and 695957 (Class A 298967, Class B 46880, Class C 350110) shares issued and outstanding 40247 43111 Accumulated other comprehensive loss (992) (1676) Retained earnings 113247 128405 Total stockholders&#39; equity 152502 169840 Total liabilities and stockholders&#39; equity $ 197295 $ 221538.\n"
     ]
    }
   ],
   "source": [
    "retrieval_qa = RetrievalQA.from_chain_type(\n",
    "    llm=llm, chain_type=\"stuff\", retriever=retriever, return_source_documents=True\n",
    ")\n",
    "\n",
    "results = retrieval_qa.invoke(search_query)\n",
    "\n",
    "print(\"*\" * 79)\n",
    "print(results[\"result\"])\n",
    "print(\"*\" * 79)\n",
    "for doc in results[\"source_documents\"]:\n",
    "    print(\"-\" * 79)\n",
    "    print(doc.page_content)"
   ]
  },
  {
   "cell_type": "code",
   "execution_count": 7,
   "id": "03972b95-0dc2-4e5b-af95-a3f08a387bdb",
   "metadata": {
    "tags": []
   },
   "outputs": [
    {
     "data": {
      "text/plain": [
       "{'answer': \"Alphabet's revenue in Q2 2021 was $61.880 billion.\\n\",\n",
       " 'sources': 'gs://cloud-samples-data/gen-app-builder/search/alphabet-investor-pdfs/2021Q2_alphabet_earnings_release.pdf5, gs://cloud-samples-data/gen-app-builder/search/alphabet-investor-pdfs/2021Q2_alphabet_earnings_release.pdf2'}"
      ]
     },
     "execution_count": 7,
     "metadata": {},
     "output_type": "execute_result"
    }
   ],
   "source": [
    "retrieval_qa_with_sources = RetrievalQAWithSourcesChain.from_chain_type(\n",
    "    llm=llm, chain_type=\"stuff\", retriever=retriever\n",
    ")\n",
    "\n",
    "retrieval_qa_with_sources.invoke(search_query, return_only_outputs=True)"
   ]
  },
  {
   "cell_type": "code",
   "execution_count": 8,
   "id": "f420633c-3c75-4f44-9da4-b6d77726d949",
   "metadata": {
    "tags": []
   },
   "outputs": [
    {
     "name": "stderr",
     "output_type": "stream",
     "text": [
      "/var/tmp/ipykernel_4172/1182819151.py:4: LangChainDeprecationWarning: Please see the migration guide at: https://python.langchain.com/docs/versions/migrating_memory/\n",
      "  memory = ConversationBufferMemory(memory_key=\"chat_history\", return_messages=True)\n"
     ]
    },
    {
     "name": "stdout",
     "output_type": "stream",
     "text": [
      "Alphabet revenues in 2022 were $282,836 million.\n"
     ]
    }
   ],
   "source": [
    "multi_turn_retriever = VertexAIMultiTurnSearchRetriever(\n",
    "    project_id=PROJECT_ID, location_id=DATA_STORE_LOCATION, data_store_id=DATA_STORE_ID\n",
    ")\n",
    "memory = ConversationBufferMemory(memory_key=\"chat_history\", return_messages=True)\n",
    "conversational_retrieval = ConversationalRetrievalChain.from_llm(\n",
    "    llm=llm, retriever=multi_turn_retriever, memory=memory\n",
    ")\n",
    "\n",
    "search_query = \"What were alphabet revenues in 2022?\"\n",
    "\n",
    "result = conversational_retrieval.invoke(search_query)\n",
    "print(result[\"answer\"])"
   ]
  },
  {
   "cell_type": "code",
   "execution_count": 9,
   "id": "e26b759e-b3bb-4f67-9a3a-813fbe7043c5",
   "metadata": {
    "tags": []
   },
   "outputs": [
    {
     "name": "stdout",
     "output_type": "stream",
     "text": [
      "Alphabet's total costs and expenses in 2022 were $207,994 million.\n",
      "\n"
     ]
    }
   ],
   "source": [
    "new_query = \"What about costs and expenses?\"\n",
    "result = conversational_retrieval.invoke(new_query)\n",
    "print(result[\"answer\"])"
   ]
  },
  {
   "cell_type": "code",
   "execution_count": 10,
   "id": "e97651ce-a5d0-4410-8425-af39fb105857",
   "metadata": {
    "tags": []
   },
   "outputs": [
    {
     "name": "stdout",
     "output_type": "stream",
     "text": [
      "Yes, Alphabet's total costs and expenses were $207,994 million in 2022, while in 2021 they were $178,923 million.\n",
      "\n"
     ]
    }
   ],
   "source": [
    "new_query = \"Is this more than in 2021?\"\n",
    "\n",
    "result = conversational_retrieval.invoke(new_query)\n",
    "print(result[\"answer\"])"
   ]
  },
  {
   "cell_type": "code",
   "execution_count": 11,
   "id": "58d23911-1c63-4d70-b5fc-ffb4a647d1c0",
   "metadata": {
    "tags": []
   },
   "outputs": [
    {
     "name": "stdout",
     "output_type": "stream",
     "text": [
      "Use the following pieces of context to answer the user's question. \n",
      "If you don't know the answer, just say that you don't know, don't try to make up an answer.\n",
      "----------------\n",
      "{context}\n"
     ]
    }
   ],
   "source": [
    "qa = RetrievalQA.from_chain_type(\n",
    "    llm=llm, chain_type=\"stuff\", retriever=retriever, return_source_documents=True\n",
    ")\n",
    "\n",
    "print(qa.combine_documents_chain.llm_chain.prompt.messages[0].prompt.template)"
   ]
  },
  {
   "cell_type": "code",
   "execution_count": 12,
   "id": "be0bcc5a-923b-442b-8426-0f5d4abb5a6b",
   "metadata": {
    "tags": []
   },
   "outputs": [],
   "source": [
    "prompt_template = \"\"\"Use the context to answer the question at the end.\n",
    "You must always use the context and context only to answer the question. Never try to make up an answer. If the context is empty or you do not know the answer, just say \"I don't know\".\n",
    "The answer should consist of only 1 word and not a sentence.\n",
    "\n",
    "Context: {context}\n",
    "\n",
    "Question: {question}\n",
    "Helpful Answer:\n",
    "\"\"\"\n",
    "prompt = PromptTemplate(\n",
    "    template=prompt_template, input_variables=[\"context\", \"question\"]\n",
    ")\n",
    "qa_chain = RetrievalQA.from_llm(\n",
    "    llm=llm, prompt=prompt, retriever=retriever, return_source_documents=True\n",
    ")"
   ]
  },
  {
   "cell_type": "code",
   "execution_count": 13,
   "id": "c7f278ac-ff92-46ee-85cd-f23054aa2fd1",
   "metadata": {
    "tags": []
   },
   "outputs": [
    {
     "name": "stdout",
     "output_type": "stream",
     "text": [
      "Use the context to answer the question at the end.\n",
      "You must always use the context and context only to answer the question. Never try to make up an answer. If the context is empty or you do not know the answer, just say \"I don't know\".\n",
      "The answer should consist of only 1 word and not a sentence.\n",
      "\n",
      "Context: {context}\n",
      "\n",
      "Question: {question}\n",
      "Helpful Answer:\n",
      "\n"
     ]
    }
   ],
   "source": [
    "print(qa_chain.combine_documents_chain.llm_chain.prompt.template)"
   ]
  },
  {
   "cell_type": "code",
   "execution_count": 14,
   "id": "2275e085-41d4-4cef-8346-8f578f8b9835",
   "metadata": {
    "tags": []
   },
   "outputs": [
    {
     "name": "stdout",
     "output_type": "stream",
     "text": [
      "*******************************************************************************\n",
      "Yes\n",
      "\n",
      "*******************************************************************************\n",
      "-------------------------------------------------------------------------------\n",
      "Year Ended December 31, % Change from 2020 2021 Prior Year EMEA revenues $ $ 43% EMEA constant currency revenues 38 % APAC revenues 32550 42% APAC constant currency revenues 40% Other Americas revenues 14404 53% Other Americas constant currency revenues 52% United States revenues 85014 39% Hedging gains (losses) 149 Total revenues $ $ 41% Revenues, excluding hedging effect $ 182351 $ Exchange rate effect (3330) Total constant currency revenues $ 254158 39% EMEA revenue growth from 2020 to 2021 was favorably affected by foreign currency exchange rates, primarily due to the US dollar weakening relative to the Euro and British pound.\n",
      "-------------------------------------------------------------------------------\n",
      "Google Cloud&#39;s infrastructure and platform services were the largest drivers of growth in GCP. Revenues by Geography The following table presents revenues by geography as a percentage of revenues, determined based on the addresses of our Year Ended December 31, 2020 2021 United States % % EMEA 30 % 31 % APAC 18 % 18 % Other Americas 5 % 5 %\n",
      "-------------------------------------------------------------------------------\n",
      "This was followed by increased spending by our advertisers, which continued throughout the.\n",
      "-------------------------------------------------------------------------------\n",
      "Comparison to the Quarter Ended December 31, 2020 Quarter Ended December 31, 2020 December 31, 2021 % Change from Prior Year EMEA revenues $ 17238 $ 23153 34 % EMEA constant currency revenues 23211 35 % APAC revenues 9909 12732 28 % APAC constant currency revenues 12996 31 % Other Americas revenues 3050 4447 46 % Other Americas constant currency revenues 4398 44 % United States revenues 26703 34790 30 % Hedging gains (losses) (2) 203 Total revenues $ 56898 $ 75325 32 % Revenues, excluding hedging effect $ 56900 $ 75122 Exchange rate effect 273 Total constant currency revenues $ 75395 33 % 7.\n",
      "-------------------------------------------------------------------------------\n",
      "Comparison to the Quarter Ended September 30, 2021 Quarter Ended September 30, 2021 December 31, 2021 % Change from Prior Quarter EMEA revenues $ 19839 $ 23153 17 % EMEA constant currency revenues 23662 19 % APAC revenues 11705 12732 9 % APAC constant currency revenues 12872 10 % Other Americas revenues 3688 4447 21 % Other Americas constant currency revenues 4560 24 % United States revenues 29824 34790 17 % Hedging gains (losses) 62 203 Total revenues $ 65118 $ 75325 16 % Revenues, excluding hedging effect $ 65056 $ 75122 Exchange rate effect 762 Total constant currency revenues $ 75884 17 % Comparison to the Year Ended December 31, 2020 Year Ended December 31, 2020 December 31, 2021 % Change from Prior Year EMEA revenues $ 55370 $ 79107 43 % EMEA constant currency revenues 76321 38 % APAC revenues 32550 46123 42 % APAC constant currency revenues 45666 40 % Other Americas revenues 9417 14404 53 % Other Americas constant currency revenues 14317 52 % United States revenues 85014 117854 39 % Hedging gains (losses) 176 149 Total revenues $ 182527 $ 257637 41 % Revenues, excluding hedging effect $ 182351 $ 257488 Exchange rate effect (3330) Total constant currency revenues $ 254158 39 % Non-GAAP constant currency revenues and percentage change: We define non-GAAP constant currency revenues as total revenues excluding the effect of foreign exchange rate movements and hedging activities, and we use it to determine the constant currency revenue percentage change on year-on-year and quarter-on-quarter basis.\n",
      "-------------------------------------------------------------------------------\n",
      "Contact Investor relations Media investor-relations@abc.xyz press@abc.xyz 3.\n",
      "-------------------------------------------------------------------------------\n",
      "Total revenues and hedging gains for the quarter ended March 31, 2020 were $41159 million and $49 million, respectively.\n",
      "-------------------------------------------------------------------------------\n",
      "We also share Google news and product updates on Google&#39;s Keyword blog at https://www.blog.google/, which may be of interest or material to our investors.\n",
      "-------------------------------------------------------------------------------\n",
      "Contact Investor relations Media investor-relations@abc.xyz press@abc.xyz 3.\n",
      "-------------------------------------------------------------------------------\n",
      "Comparison from the Quarter Ended June 30, 2020 to the Quarter Ended June 30, 2021 Quarter Ended June 30, 2020 June 30, 2021 % Change from Prior Year EMEA revenues $ 11363 $ 19084 68 % EMEA constant currency revenues 17659 55 % APAC revenues 6945 11231 62 % APAC constant currency revenues 10881 57 % Other Americas revenues 1839 3364 83 % Other Americas constant currency revenues 3252 77 % United States revenues 17999 28208 57 % Hedging gains (losses) 151 (7) Total revenues $ 38297 $ 61880 62 % Revenues, excluding hedging effect $ 38146 $ 61887 Exchange rate effect (1887) Total constant currency revenues $ 60000 57 % 7.\n",
      "-------------------------------------------------------------------------------\n",
      "Comparison from the Quarter Ended June 30, 2021 to the Quarter Ended June 30, 2022 Quarter Ended June 30, 2021 June 30, 2022 % Change from Prior Year EMEA revenues $ 19084 $ 20533 8 % EMEA constant currency revenues 22489 18 % APAC revenues 11231 11710 4 % APAC constant currency revenues 12466 11 % Other Americas revenues 3364 4340 29 % Other Americas constant currency revenues 4310 28 % United States revenues 28208 32727 16 % Hedging gains (losses) (7) 375 Total revenues $ 61880 $ 69685 13 % Revenues, excluding hedging effect $ 61887 $ 69310 Exchange rate effect 2682 Total constant currency revenues $ 71992 16 % Comparison from the Quarter Ended March 31, 2022 to the Quarter Ended June 30, 2022 Quarter Ended March 31, 2022 June 30, 2022 % Change from Prior Quarter EMEA revenues $ 20317 $ 20533 1 % EMEA constant currency revenues 21164 4 % APAC revenues 11841 11710 (1) % APAC constant currency revenues 12044 2 % Other Americas revenues 3842 4340 13 % Other Americas constant currency revenues 4231 10 % United States revenues 31733 32727 3 % Hedging gains (losses) 278 375 Total revenues $ 68011 $ 69685 2 % Revenues, excluding hedging effect $ 67733 $ 69310 Exchange rate effect 856 Total constant currency revenues $ 70166 4 % Non-GAAP constant currency revenues and percentage change: We define non-GAAP constant currency revenues as total revenues excluding the effect of foreign exchange rate movements and hedging activities, and we use it to determine the constant currency revenue percentage change on year-on-year and quarter-on-quarter basis. Non-GAAP constant currency revenues are calculated by translating current quarter revenues using prior period exchange rates and excluding any hedging effect recognized in the current quarter.\n",
      "-------------------------------------------------------------------------------\n",
      "Other income (expense), net The following table presents our other income (expense), net (in millions; unaudited): Quarter Ended June 30, 2021 2022 Interest income $ 389 $ 486 Interest expense (76) (83) Foreign currency exchange gain (loss), net (51) (260) Gain (loss) on debt securities, net 111 (790) Gain (loss) on equity securities, net(1) 2772 (251) Performance fees (523) 318 Income (loss) and impairment from equity method investments, net 92 (118) Other (90) 259 Other income (expense), net $ 2624 $ (439) (1) Includes all gains and losses, unrealized and realized, on equity investments.\n",
      "-------------------------------------------------------------------------------\n",
      "EMEA revenue percentage change from 2019 to 2020 was not significantly affected by foreign currency exchange rates, primarily due to the US dollar weakening relative to the Euro offset by the US dollar strengthening relative to the Turkish lira and Russian ruble.\n",
      "-------------------------------------------------------------------------------\n",
      "Revenues from the United States, EMEA, APAC, and Other Americas were $85.0 billion, $55.4 billion, $32.6 billion, and $9.4 billion, respectively. z Total cost of revenues was $84.7 billion, an increase of 18% year over year.\n",
      "-------------------------------------------------------------------------------\n",
      "This has led to a trend of increased revenues from international markets over time, as regions with emerging markets, such as APAC, have demonstrated higher revenue growth rates.\n",
      "-------------------------------------------------------------------------------\n",
      "Quarter Ended March 31, 2020 YoY (using Q1&#39;19&#39;s FX rates) QoQ (using Q4&#39;19&#39;s FX rates) EMEA revenues (GAAP) $ 12845 $ 12845 Exclude foreign exchange effect on Q1&#39;20 revenues using Q1&#39;19 rates 235 N/A Exclude foreign exchange effect on Q1&#39;20 revenues using Q4&#39;19 rates N/A (63) EMEA constant currency revenues (non-GAAP) $ 13080 $ 12782 Prior period EMEA revenues (GAAP) $ 11668 $ 14099 EMEA revenue growth (GAAP) 10 % (9)% EMEA constant currency revenue growth (non-GAAP) 12 % (9)% APAC revenues (GAAP) $ 7238 $ 7238 Exclude foreign exchange effect on Q1&#39;20 revenues using Q1&#39;19 rates 61 N/A Exclude foreign exchange effect on Q1&#39;20 revenues using Q4&#39;19 rates N/A 37 APAC constant currency revenues (non-GAAP) $ 7299 $ 7275 Prior period APAC revenues (GAAP) $ 6096 $ 7482 APAC revenue growth (GAAP) 19 % (3)% APAC constant currency revenue growth (non-GAAP) 20 % (3)% Other Americas revenues (GAAP) $ 2157 $ 2157 Exclude foreign exchange effect on Q1&#39;20 revenues using Q1&#39;19 rates 96 N/A Exclude foreign exchange effect on Q1&#39;20 revenues using Q4&#39;19 rates N/A 14 Other Americas constant currency revenues (non-GAAP) $ 2253 $ 2171 Prior period Other Americas revenues (GAAP) $ 1906 $ 2666 Other Americas revenue growth (GAAP) 13 % (19)% Other Americas constant currency revenue growth (non-GAAP) 18 % (19)% United States revenues (GAAP) $ 18870 $ 18870 United States revenue growth (GAAP) 14 % (13)% Hedging gains $ 49 $ 49 Revenues (GAAP) $ 41159 $ 41159 Constant currency revenues (non-GAAP) $ 41502 $ 41098 Prior period revenues, excluding hedging effect (non-GAAP)(1) $ 36202 $ 45984 Revenue growth (GAAP) 13 % (11)% Constant currency revenue growth (non-GAAP) 15 % (11)% (1) Total revenues and hedging gains for the quarter ended March 31, 2019 were $36339 million and $137 million, respectively.\n",
      "-------------------------------------------------------------------------------\n",
      "Hedging gains, which were previously included in Google revenues, are presented separately.\n",
      "-------------------------------------------------------------------------------\n",
      "(3) For purposes of segment reporting, SBC represents awards that we expect to settle in Alphabet stock. (4) Reconciling items are primarily related to corporate administrative and other costs that are not allocated to individual segments.\n",
      "-------------------------------------------------------------------------------\n",
      "Comparison from the Quarter Ended March 31, 2020 to the Quarter Ended March 31, 2021 Quarter Ended % Change from Prior March 31, 2020 March 31, 2021 Year EMEA revenues $ 12845 $ 17031 33 % EMEA constant currency revenues 16102 25 % APAC revenues 7238 10455 44 % APAC constant currency revenues 10092 39 % Other Americas revenues 2157 2905 35 % Other Americas constant currency revenues 3096 44 % United States revenues 18870 25032 33 % Hedging gains (losses) 49 (109) Total revenues $ 41159 $ 55314 34 % Revenues, excluding hedging effect $ 41110 $ 55423 Exchange rate effect (1101) Total constant currency revenues $ 54322 32 % 7.\n",
      "-------------------------------------------------------------------------------\n",
      "Comparison from the Quarter Ended March 31, 2021 to the Quarter Ended March 31, 2022 Quarter Ended March 31, 2021 March 31, 2022 % Change from Prior Year EMEA revenues $ 17031 $ 20317 19 % EMEA constant currency revenues 21628 27 % APAC revenues 10455 11841 13 % APAC constant currency revenues 12440 19 % Other Americas revenues 2905 3842 32 % Other Americas constant currency revenues 3923 35 % United States revenues 25032 31733 27 % Hedging gains (losses) (109) 278 Total revenues $ 55314 $ 68011 23 % Revenues, excluding hedging effect $ 55423 $ 67733 Exchange rate effect 1991 Total constant currency revenues $ 69724 26 % Comparison from the Quarter Ended December 31, 2021 to the Quarter Ended March 31, 2022 Quarter Ended December 31, 2021 March 31, 2022 % Change from Prior Quarter EMEA revenues $ 23153 $ 20317 (12) % EMEA constant currency revenues 20836 (10) % APAC revenues 12732 11841 (7) % APAC constant currency revenues 11975 (6) % Other Americas revenues 4447 3842 (14) % Other Americas constant currency revenues 3854 (13) % United States revenues 34790 31733 (9) % Hedging gains (losses) 203 278 Total revenues $ 75325 $ 68011 (10) % Revenues, excluding hedging effect $ 75122 $ 67733 Exchange rate effect 665 Total constant currency revenues $ 68398 (9) % Non-GAAP constant currency revenues and percentage change: We define non-GAAP constant currency revenues as total revenues excluding the effect of foreign exchange rate movements and hedging activities, and we use it to determine the constant currency revenue percentage change on year-on-year and quarter-on-quarter basis. Non-GAAP constant currency revenues are calculated by translating current quarter revenues using prior period exchange rates and excluding any hedging effect recognized in the current quarter.\n",
      "-------------------------------------------------------------------------------\n",
      "See the table captioned “Reconciliation from GAAP revenues to non-GAAP constant currency revenues” for more details. Q1 2022 supplemental information (in millions, except for number of employees; unaudited) Revenues, Traffic Acquisition Costs (TAC) and number of employees Quarter Ended March 31, 2021 2022 Google Search &amp; other $ 31879 $ 39618 YouTube ads 6005 6869 Google Network 6800 8174 Google advertising 44684 54661 Google other 6494 6811 Google Services total 51178 61472 Google Cloud 4047 5821 Other Bets 198 440 Hedging gains (losses) (109) 278 Total revenues $ 55314 $ 68011 Total TAC $ 9712 $ 11990 Number of employees 139995 163906.\n",
      "-------------------------------------------------------------------------------\n",
      "Comparison from the Quarter Ended September 30, 2020 to the Quarter Ended September 30, 2021 Quarter Ended September 30, 2020 September 30, 2021 % Change from Prior Year EMEA revenues $ 13924 $ 19839 42 % EMEA constant currency revenues 19349 39 % APAC revenues 8458 11705 38 % APAC constant currency revenues 11697 38 % Other Americas revenues 2371 3688 56 % Other Americas constant currency revenues 3571 51 % United States revenues 21442 29824 39 % Hedging gains (losses) (22) 62 Total revenues $ 46173 $ 65118 41 % Revenues, excluding hedging effect $ 46195 $ 65056 Exchange rate effect (615) Total constant currency revenues $ 64441 39 % 7.\n",
      "-------------------------------------------------------------------------------\n",
      "Comparison from the Quarter Ended September 30, 2021 to the Quarter Ended September 30, 2022 Quarter Ended September 30, 2021 September 30, 2022 % Change from Prior Year EMEA revenues $ 19839 $ 19450 (2) % EMEA constant currency revenues 22093 11 % APAC revenues 11705 11494 (2) % APAC constant currency revenues 12604 8 % Other Americas revenues 3688 4138 12 % Other Americas constant currency revenues 4303 17 % United States revenues 29824 33372 12 % Hedging gains (losses) 62 638 Total revenues $ 65118 $ 69092 6 % Revenues, excluding hedging effect $ 65056 $ 68454 Exchange rate effect 3918 Total constant currency revenues $ 72372 11 % Comparison from the Quarter Ended June 30, 2022 to the Quarter Ended September 30, 2022 Quarter Ended June 30, 2022 September 30, 2022 % Change from Prior Quarter EMEA revenues $ 20533 $ 19450 (5) % EMEA constant currency revenues 20390 (1) % APAC revenues 11710 11494 (2) % APAC constant currency revenues 11949 2 % Other Americas revenues 4340 4138 (5) % Other Americas constant currency revenues 4290 (1) % United States revenues 32727 33372 2 % Hedging gains (losses) 375 638 Total revenues $ 69685 $ 69092 (1) % Revenues, excluding hedging effect $ 69310 $ 68454 Exchange rate effect 1547 Total constant currency revenues $ 70001 1 % Non-GAAP constant currency revenues and percentage change: We define non-GAAP constant currency revenues as total revenues excluding the effect of foreign exchange rate movements and hedging activities, and we use it to determine the constant currency revenue percentage change on year-on-year and quarter-on-quarter basis. Non-GAAP constant currency revenues are calculated by translating current quarter revenues using prior period exchange rates and excluding any hedging effect recognized in the current quarter.\n",
      "-------------------------------------------------------------------------------\n",
      "Other income (expense), net The following table presents our other income (expense), net (in millions; unaudited): Quarter Ended September 30, 2021 2022 Interest income $ 387 $ 615 Interest expense (77) (101) Foreign currency exchange gain (loss), net (139) (136) Gain (loss) on debt securities, net 37 (731) Gain (loss) on equity securities, net(1) 2121 (647) Performance fees (492) 54 Income (loss) and impairment from equity method investments, net 188 (99) Other 8 143 Other income (expense), net $ 2033 $ (902) (1) Includes all gains and losses, unrealized and realized, on equity investments.\n",
      "-------------------------------------------------------------------------------\n",
      "Quarter Ended December 31, 2020 YoY (using Q4&#39;19&#39;s FX rates) QoQ (using Q3&#39;20&#39;s FX rates) EMEA revenues (GAAP) $ 17238 $ 17238 Exclude foreign exchange effect on Q4&#39;20 revenues using Q4&#39;19 rates (457) N/A Exclude foreign exchange effect on Q4&#39;20 revenues using Q3&#39;20 rates N/A (91) EMEA constant currency revenues (non-GAAP) $ 16781 $ 17147 Prior period EMEA revenues (GAAP) $ 14099 $ 13924 EMEA revenue percentage change (GAAP) 22 % 24 % EMEA constant currency revenue percentage change (non-GAAP) 19 % 23 % APAC revenues (GAAP) $ 9909 $ 9909 Exclude foreign exchange effect on Q4&#39;20 revenues using Q4&#39;19 rates (156) N/A Exclude foreign exchange effect on Q4&#39;20 revenues using Q3&#39;20 rates N/A (109) APAC constant currency revenues (non-GAAP) $ 9753 $ 9800 Prior period APAC revenues (GAAP) $ 7482 $ 8458 APAC revenue percentage change (GAAP) 32 % 17 % APAC constant currency revenue percentage change (non-GAAP) 30 % 16 % Other Americas revenues (GAAP) $ 3050 $ 3050 Exclude foreign exchange effect on Q4&#39;20 revenues using Q4&#39;19 rates 324 N/A Exclude foreign exchange effect on Q4&#39;20 revenues using Q3&#39;20 rates N/A 11 Other Americas constant currency revenues (non-GAAP) $ 3374 $ 3061 Prior period Other Americas revenues (GAAP) $ 2666 $ 2371 Other Americas revenue percentage change (GAAP) 14 % 29 % Other Americas constant currency revenue percentage change (non-GAAP) 27 % 29 % United States revenues (GAAP) $ 26703 $ 26703 United States revenue percentage change (GAAP) 23 % 25 % Hedging gains (losses) $ (2) $ (2) Revenues (GAAP) $ 56898 $ 56898 Constant currency revenues (non-GAAP) $ 56611 $ 56711 Prior period revenues, excluding hedging effect (non-GAAP)(1) $ 45984 $ 46195 Revenue percentage change (GAAP) 23 % 23 % Constant currency revenue percentage change (non-GAAP) 23 % 23 % (1) Total revenues and hedging gains (losses) for the quarter ended December 31, 2019 were $46075 million and $91 million, respectively.\n",
      "-------------------------------------------------------------------------------\n",
      "Quarter Ended December 31, 2019 2020 Revenues $ 46075 $ 56898 Increase in revenues year over year 17 % 23 % Increase in constant currency revenues year over year(1) 19 % 23 % Operating income $ 9266 $ 15651 Operating margin 20 % 28 % Other income (expense), net $ 1438 $ 3038 Net income $ 10671 $ 15227 Diluted EPS $ 15.35 $ 22.30 (1) Non-GAAP measure.\n",
      "-------------------------------------------------------------------------------\n",
      "Contact Investor relations Media investor-relations@abc.xyz press@abc.xyz 3.\n",
      "-------------------------------------------------------------------------------\n",
      "Quarter Ended September 30, 2020 YoY (using Q3&#39;19&#39;s FX rates) QoQ (using Q2&#39;20&#39;s FX rates) EMEA revenues (GAAP) $ 13924 $ 13924 Exclude foreign exchange effect on Q3&#39;20 revenues using Q3&#39;19 rates (250) N/A Exclude foreign exchange effect on Q3&#39;20 revenues using Q2&#39;20 rates N/A (605) EMEA constant currency revenues (non-GAAP) $ 13674 $ 13319 Prior period EMEA revenues (GAAP) $ 12565 $ 11363 EMEA revenue percentage change (GAAP) 11 % 23 % EMEA constant currency revenue percentage change (non-GAAP) 9 % 17 % APAC revenues (GAAP) $ 8458 $ 8458 Exclude foreign exchange effect on Q3&#39;20 revenues using Q3&#39;19 rates 1 N/A Exclude foreign exchange effect on Q3&#39;20 revenues using Q2&#39;20 rates N/A (180) APAC constant currency revenues (non-GAAP) $ 8459 $ 8278 Prior period APAC revenues (GAAP) $ 6814 $ 6945 APAC revenue percentage change (GAAP) 24 % 22 % APAC constant currency revenue percentage change (non-GAAP) 24 % 19 % Other Americas revenues (GAAP) $ 2371 $ 2371 Exclude foreign exchange effect on Q3&#39;20 revenues using Q3&#39;19 rates 304 N/A Exclude foreign exchange effect on Q3&#39;20 revenues using Q2&#39;20 rates N/A (35) Other Americas constant currency revenues (non-GAAP) $ 2675 $ 2336 Prior period Other Americas revenues (GAAP) $ 2290 $ 1839 Other Americas revenue percentage change (GAAP) 4 % 29 % Other Americas constant currency revenue percentage change (non-GAAP) 17 % 27 % United States revenues (GAAP) $ 21442 $ 21442 United States revenue percentage change (GAAP) 15 % 19 % Hedging gains (losses) $ (22) $ (22) Revenues (GAAP) $ 46173 $ 46173 Constant currency revenues (non-GAAP) $ 46250 $ 45375 Prior period revenues, excluding hedging effect (non-GAAP)(1) $ 40380 $ 38146 Revenue percentage change (GAAP) 14 % 21 % Constant currency revenue percentage change (non-GAAP) 15 % 19 % (1) Total revenues and hedging gains (losses) for the quarter ended September 30, 2019 were $40499 million and $119 million, respectively.\n",
      "-------------------------------------------------------------------------------\n",
      "Undue reliance should not be placed on the forward-looking statements in 2.\n",
      "-------------------------------------------------------------------------------\n",
      "Quarter Ended September 30, 2019 2020 Revenues $40499 $46173 Increase in revenues year over year 20 % 14 % Increase in constant currency revenues year over year(1) 22 % 15 % Operating income $9177 $11213 Operating margin 23 % 24 % Other income (expense), net ($549) $2146 Net income $7068 $11247 Diluted EPS $10.12 $16.40 (1) Non-GAAP measure.\n"
     ]
    }
   ],
   "source": [
    "search_query = \"Were 2020 EMEA revenues higher than 2020 APAC revenues?\"\n",
    "\n",
    "results = qa_chain.invoke(search_query)\n",
    "\n",
    "print(\"*\" * 79)\n",
    "print(results[\"result\"])\n",
    "print(\"*\" * 79)\n",
    "for doc in results[\"source_documents\"]:\n",
    "    print(\"-\" * 79)\n",
    "    print(doc.page_content)"
   ]
  },
  {
   "cell_type": "code",
   "execution_count": null,
   "id": "9c634342-4a0f-4dab-bc8c-fb29fb64ae57",
   "metadata": {},
   "outputs": [],
   "source": []
  }
 ],
 "metadata": {
  "environment": {
   "kernel": "conda-base-py",
   "name": "workbench-notebooks.m130",
   "type": "gcloud",
   "uri": "us-docker.pkg.dev/deeplearning-platform-release/gcr.io/workbench-notebooks:m130"
  },
  "kernelspec": {
   "display_name": "Python 3 (ipykernel) (Local) (Local)",
   "language": "python",
   "name": "conda-base-py"
  },
  "language_info": {
   "codemirror_mode": {
    "name": "ipython",
    "version": 3
   },
   "file_extension": ".py",
   "mimetype": "text/x-python",
   "name": "python",
   "nbconvert_exporter": "python",
   "pygments_lexer": "ipython3",
   "version": "3.10.18"
  }
 },
 "nbformat": 4,
 "nbformat_minor": 5
}
