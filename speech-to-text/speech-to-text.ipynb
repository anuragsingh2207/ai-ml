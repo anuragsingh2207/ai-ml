{
 "cells": [
  {
   "cell_type": "code",
   "execution_count": 12,
   "id": "2bcf549c",
   "metadata": {},
   "outputs": [],
   "source": [
    "import speech_recognition as sr\n",
    "from pydub import AudioSegment\n",
    "import os\n",
    "import tempfile\n"
   ]
  },
  {
   "cell_type": "code",
   "execution_count": 13,
   "id": "d36a9742",
   "metadata": {},
   "outputs": [],
   "source": [
    "def mp3_to_wav(audio_file_path):\n",
    "    \"\"\" Converts an MP3 file to a WAV file. \"\"\"\n",
    "    # Load the MP3 file\n",
    "    sound = AudioSegment.from_mp3(audio_file_path)\n",
    "    # Define the WAV filename\n",
    "    wav_filename = os.path.splitext(os.path.basename(audio_file_path))[0] + '.wav'\n",
    "    # Export as WAV\n",
    "    sound.export(wav_filename, format=\"wav\")\n",
    "    return wav_filename"
   ]
  },
  {
   "cell_type": "code",
   "execution_count": 14,
   "id": "524ea573",
   "metadata": {},
   "outputs": [],
   "source": [
    "def transcribe_audio(wav_file_path):\n",
    "    \"\"\" Transcribes speech from a WAV file to text. \"\"\"\n",
    "    # Initialize the recognizer\n",
    "    recognizer = sr.Recognizer()\n",
    "    # Load the audio file\n",
    "    with sr.AudioFile(wav_file_path) as source:\n",
    "        # Listen to the source\n",
    "        audio_data = recognizer.record(source)\n",
    "        # Recognize using Google Web Speech API\n",
    "        try:\n",
    "            text = recognizer.recognize_google(audio_data)\n",
    "            return text\n",
    "        except sr.UnknownValueError:\n",
    "            return \"Google Speech Recognition could not understand audio\"\n",
    "        except sr.RequestError:\n",
    "            return \"Could not request results from Google Speech Recognition service\""
   ]
  },
  {
   "cell_type": "code",
   "execution_count": 15,
   "id": "522b623c",
   "metadata": {},
   "outputs": [],
   "source": [
    "def main():\n",
    "    # Path to your MP3 file\n",
    "    mp3_file_path = 'sample-0.mp3'\n",
    "    # Convert to WAV\n",
    "    wav_file_path = mp3_to_wav(mp3_file_path)\n",
    "    # Transcribe the audio to text\n",
    "    text = transcribe_audio(wav_file_path)\n",
    "    print(\"Transcription:\")\n",
    "    print(text)\n",
    "    # Optionally, remove the WAV file if you don't need it after transcription\n",
    "    os.remove(wav_file_path)"
   ]
  },
  {
   "cell_type": "code",
   "execution_count": 17,
   "id": "08d5fac8",
   "metadata": {},
   "outputs": [
    {
     "name": "stdout",
     "output_type": "stream",
     "text": [
      "Transcription:\n",
      "perhaps he made after the party afterwards and took her and his heart and continued it was not fear eyes set it over her ED\n"
     ]
    }
   ],
   "source": [
    "if __name__ == \"__main__\":\n",
    "    main()"
   ]
  },
  {
   "cell_type": "code",
   "execution_count": null,
   "id": "a9f3058a",
   "metadata": {},
   "outputs": [],
   "source": []
  }
 ],
 "metadata": {
  "kernelspec": {
   "display_name": "Python 3",
   "language": "python",
   "name": "python3"
  },
  "language_info": {
   "codemirror_mode": {
    "name": "ipython",
    "version": 3
   },
   "file_extension": ".py",
   "mimetype": "text/x-python",
   "name": "python",
   "nbconvert_exporter": "python",
   "pygments_lexer": "ipython3",
   "version": "3.13.2"
  }
 },
 "nbformat": 4,
 "nbformat_minor": 5
}
